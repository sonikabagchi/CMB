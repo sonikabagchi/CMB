{
  "nbformat": 4,
  "nbformat_minor": 0,
  "metadata": {
    "colab": {
      "name": "Galactic_Rotation.ipynb",
      "provenance": []
    },
    "kernelspec": {
      "display_name": "Python 3",
      "language": "python",
      "name": "python3"
    },
    "language_info": {
      "codemirror_mode": {
        "name": "ipython",
        "version": 3
      },
      "file_extension": ".py",
      "mimetype": "text/x-python",
      "name": "python",
      "nbconvert_exporter": "python",
      "pygments_lexer": "ipython3",
      "version": "3.8.3"
    }
  },
  "cells": [
    {
      "cell_type": "code",
      "metadata": {
        "colab": {
          "base_uri": "https://localhost:8080/"
        },
        "id": "wPQNWj2OCUIK",
        "outputId": "18fa0c5a-5351-416c-fc5b-d3bf870f35cd"
      },
      "source": [
        "from google.colab import drive\n",
        "drive.mount('/content/drive/')"
      ],
      "execution_count": 2,
      "outputs": [
        {
          "output_type": "stream",
          "text": [
            "Drive already mounted at /content/drive/; to attempt to forcibly remount, call drive.mount(\"/content/drive/\", force_remount=True).\n"
          ],
          "name": "stdout"
        }
      ]
    },
    {
      "cell_type": "code",
      "metadata": {
        "id": "swLfIwLLBhpT"
      },
      "source": [
        "import numpy as np\n",
        "import matplotlib.pyplot as plt\n",
        "import os, fnmatch, re\n",
        "import math\n",
        "import sys\n",
        "import re"
      ],
      "execution_count": 3,
      "outputs": []
    },
    {
      "cell_type": "markdown",
      "metadata": {
        "id": "mMTeO4K9JWu6"
      },
      "source": [
        "The following reads in the functions defined in the `python` file galCoords.py, which you will use later on in the Notebook."
      ]
    },
    {
      "cell_type": "code",
      "metadata": {
        "id": "tb5KT2UbB7GT"
      },
      "source": [
        "sys.path.append('/content/drive/MyDrive/Galactic Rotation/data')\n",
        "from galCoords import *"
      ],
      "execution_count": 4,
      "outputs": []
    },
    {
      "cell_type": "markdown",
      "metadata": {
        "id": "qmwYsgbaJet6"
      },
      "source": [
        "The following cell defines the variables Rsun (distance of the Sun from the Galactic Center, given in kpc) and Vsun (circular velocity of the Sun around the Galactic Center, given in km/s)"
      ]
    },
    {
      "cell_type": "code",
      "metadata": {
        "id": "_eezr-H1BhpY"
      },
      "source": [
        "Rsun = 8\n",
        "Vsun = 220"
      ],
      "execution_count": 5,
      "outputs": []
    },
    {
      "cell_type": "markdown",
      "metadata": {
        "id": "w5nzeCuOBhpY"
      },
      "source": [
        "You now know how to recover a 21 cm spectrum from the data, with backgrounds and spurs removed. This week, we will use these results to build a 'heat map' from which we will ultimately deduce the rotation curve of the Galaxy. To achieve this, we will use data taken with the 60’ Camp Evans telescope in the spectrum mode. For details on this data format, see the ‘Data Format Reference’ document.  \n",
        "\n",
        "(Data and exercises kindly provided by D. Marlow)\n",
        "\n",
        "![mw.jpg](data:image/jpeg;base64,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)"
      ]
    },
    {
      "cell_type": "markdown",
      "metadata": {
        "id": "EFZE2jcoBhpZ"
      },
      "source": [
        "Begin by reading in the gain file, `gLon_gain.dat`"
      ]
    },
    {
      "cell_type": "code",
      "metadata": {
        "id": "PftJypJS5ktQ"
      },
      "source": [
        "def getGain():\n",
        "  fileName = \"/content/drive/MyDrive/Galactic Rotation/data/gLon_gain.dat\"\n",
        "  gain = np.fromfile(fileName,dtype=float)\n",
        "  return gain"
      ],
      "execution_count": 6,
      "outputs": []
    },
    {
      "cell_type": "markdown",
      "metadata": {
        "id": "85HPIVXEBhpa"
      },
      "source": [
        "Each data file corresponds to a 120 second run with the telescope fixed on a particular galactic longitude $\\ell$ lying along the galactic equator ($b = 0^\\circ$). The naming scheme for the files is e.g., `gLon022_001.dat`, where `gLon022` means that the data was taken at a galactic longitude of $\\ell= 22^\\circ$. The `001` just means that it is the first such run at this point.\n",
        "\n",
        "To warm up, read in `gLon000_001.dat` and plot the background-subtracted gain-corrected power spectrum. Feel free to copy over any functions from last week's notebook that may be of use.\n",
        "\n",
        "(Note that the power that is read has already been converted to temperature, and is in units of K.)"
      ]
    },
    {
      "cell_type": "code",
      "metadata": {
        "id": "lPpCPe975ktR"
      },
      "source": [
        "gain = getGain()"
      ],
      "execution_count": 7,
      "outputs": []
    },
    {
      "cell_type": "code",
      "metadata": {
        "colab": {
          "base_uri": "https://localhost:8080/",
          "height": 329
        },
        "id": "h_vLd4Kz-KUO",
        "outputId": "3e7c6dd7-1524-4e54-ffc7-a1995eb39634"
      },
      "source": [
        "def getHeaderDictionary(header) :\n",
        "    headerDict = {}\n",
        "    headerDict['timeStampMegaSec'] = header[0] \n",
        "    headerDict['timeStampSec'] =  header[1] \n",
        "    headerDict['timeStamp'] = 1.e6*header[0] + header[1]\n",
        "    headerDict['nBins'] = int(header[2]) \n",
        "    headerDict['nSamples'] = int(header[3]) \n",
        "    headerDict['timeStep'] = header[4]  \n",
        "    headerDict['fCenter'] = header[5] \n",
        "    headerDict['fSample'] = header[6] \n",
        "    headerDict['gain'] = header[7] \n",
        "    headerDict['nAverage'] = header[8] \n",
        "    return headerDict\n",
        "\n",
        "fileName = \"/content/drive/MyDrive/Galactic Rotation/data/gLon000_001.dat\"\n",
        "data = np.fromfile(fileName,dtype=float)\n",
        "header = data[0:16]\n",
        "headerDict = getHeaderDictionary(header)\n",
        "power = data[16:]\n",
        "print(len(power))\n",
        "\n",
        "fCenter = headerDict['fCenter']\n",
        "fSample = headerDict['fSample']\n",
        "fMin = fCenter - (fSample)/2\n",
        "fMax = fCenter + (fSample)/2\n",
        "\n",
        "freqs = np.linspace(fMin,fMax,headerDict['nBins'])\n",
        "vDoppler = (3*10**5)*(freqs-1420.41)/freqs\n",
        "\n",
        "power_gaincorrected = np.divide(power,gain)\n",
        "\n",
        "def removeSpurs(x):\n",
        "  spurChannels = [612,613,614,615,616,617]\n",
        "  x1 = np.delete(x, spurChannels)\n",
        "  return x1\n",
        "\n",
        "power_gaincorrected_nospur = removeSpurs(power_gaincorrected)\n",
        "vDoppler = removeSpurs(vDoppler)\n",
        "\"\"\"\n",
        "plt.plot(vDoppler, power_gaincorrected_nospur)\n",
        "plt.xlim(-300,300)\n",
        "plt.title(\"Doppler velocity against Power with No Spurs\")\n",
        "plt.xlabel(\"Doppler velocity km/s\")\n",
        "plt.ylabel(\"Power\")\n",
        "\"\"\"\n",
        "def getBackground(vDoppler,power) :\n",
        "    N = len(vDoppler)\n",
        "    v1, v2 = -300., 300.\n",
        "    i1 = np.searchsorted(vDoppler,v1)\n",
        "    i2 = np.searchsorted(vDoppler,v2)\n",
        "    \n",
        "    m = (power[i2]-power[i1])/(v2-v1)\n",
        "    b = power[i1] - m*v1\n",
        "    background = (m*vDoppler)+b\n",
        "    \n",
        "    return background\n",
        "  \n",
        "background = getBackground(vDoppler,power_gaincorrected_nospur)\n",
        "power_no_background = power_gaincorrected_nospur-background\n",
        "\n",
        "plt.plot(vDoppler, power_no_background)\n",
        "plt.xlim(-300,300)\n",
        "plt.title(\"Doppler velocity against Power with No Background\")\n",
        "plt.xlabel(\"Doppler velocity (km/s)\")\n",
        "plt.ylabel(\"Power (K)\")"
      ],
      "execution_count": 18,
      "outputs": [
        {
          "output_type": "stream",
          "text": [
            "2048\n"
          ],
          "name": "stdout"
        },
        {
          "output_type": "execute_result",
          "data": {
            "text/plain": [
              "Text(0, 0.5, 'Power')"
            ]
          },
          "metadata": {
            "tags": []
          },
          "execution_count": 18
        },
        {
          "output_type": "display_data",
          "data": {
            "image/png": "[encoded data removed]",
            "text/plain": [
              "<Figure size 432x288 with 1 Axes>"
            ]
          },
          "metadata": {
            "tags": [],
            "needs_background": "light"
          }
        }
      ]
    },
    {
      "cell_type": "markdown",
      "metadata": {
        "id": "XB_j2zzeBhpp"
      },
      "source": [
        "You will need to extract the longitude associated with each data file from its filename. To do so, use pattern matching with regular expressions:\n",
        "\n",
        "```\n",
        "import re\n",
        "\n",
        "regex = r\"gLon([0-9]+)_.*\"\n",
        "\n",
        "gLon = re.match(regex, <filename>)\n",
        "\n",
        "L = float(gLon[1])\n",
        "```\n",
        "    \n",
        "The second line defines the regular expression; this is a shorthand for picking out any collection of numbers from 0–9 that are sandwiched between a 'gLon' and a '_'. The third line looks for the match of this regular expression in a given string (the filename, in this instance). The last line takes the string of numbers that was selected, converts them to a float and saves them as the variable 'L'. Use this code snippet on the file analyzed above to make sure that your code is indeed picking out the correct longitude value associated with each file. (Note that the `import re` command, like all `import` commands, should go at the top of your notebook.)"
      ]
    },
    {
      "cell_type": "code",
      "metadata": {
        "id": "cnPUMXCFBhpq"
      },
      "source": [
        "regex = r\"gLon([0-9]+)_.*\"\n",
        "\n",
        "gLon = re.match(regex, \"gLon000_001.dat\")\n",
        " \n",
        "L = float(gLon[1])"
      ],
      "execution_count": 23,
      "outputs": []
    },
    {
      "cell_type": "markdown",
      "metadata": {
        "id": "OnwnaJssBhpq"
      },
      "source": [
        "Next, we would like to read in all the data files in the directory and perform the same set of operations on each one.  To do so, we will use the following code snippet:\n",
        "\n",
        "```\n",
        "for file in sorted(os.listdir(<data directory>)):\n",
        "\n",
        "  if fnmatch.fnmatch(file, ‘*[0-9]_*.dat’):\n",
        "\n",
        "    <your code goes here>\n",
        "```\n",
        "\n",
        "The `os.listdir(<data directory>)` lists all files in the data directory. The `for loop` will contain the series of actions that are applied to every file in the directory. The `fnmatch.fnmatch(file, '*[0-9]_*.dat')` command checks to see if the filename contains the following pattern: \n",
        "\n",
        "*   any set of digits from 0–9 preceded by anything (denoted by *)\n",
        "*   and followed by a '_'\n",
        "*   and anything else (denoted again by *)\n",
        "\n",
        "The `if loop` only proceeds if the filename matches this pattern. As a test, you can print out the filenames to verify that the `for loop` only acts on the data files, and not the gain file.  \n",
        "\n",
        "Next, edit the `for loop` so that each iteration does the following:\n",
        "\n",
        "1. Read the raw power array.\n",
        "2. Correct for the gain.\n",
        "3. Remove the spurs.\n",
        "4. Subtract the background.\n",
        "5. Define the Doppler velocity array.\n",
        "6. Find the longitude associated with each file."
      ]
    },
    {
      "cell_type": "code",
      "metadata": {
        "id": "_G-OV9pFBhpr"
      },
      "source": [
        "for file in sorted(os.listdir(\"/content/drive/MyDrive/Galactic Rotation/data\")):\n",
        "  \n",
        "  if fnmatch.fnmatch(file, \"*[0-9]_*.dat\"):\n",
        "    data = np.fromfile(\"/content/drive/MyDrive/Galactic Rotation/data/\"+file,dtype=float)\n",
        "    header = data[0:16]\n",
        "    headerDict = getHeaderDictionary(header)\n",
        "    power = data[16:]\n",
        "\n",
        "    fCenter = headerDict['fCenter']\n",
        "    fSample = headerDict['fSample']\n",
        "    fMin = fCenter - (fSample)/2\n",
        "    fMax = fCenter + (fSample)/2\n",
        "\n",
        "    freqs = np.linspace(fMin,fMax,headerDict['nBins'])\n",
        "    vDoppler = (3*10**5)*(freqs-1420.41)/freqs\n",
        "\n",
        "    power_gaincorrected = np.divide(power,gain)\n",
        "\n",
        "    power_gaincorrected_nospur = removeSpurs(power_gaincorrected)\n",
        "    vDoppler = removeSpurs(vDoppler)\n",
        "      \n",
        "    background = getBackground(vDoppler,power_gaincorrected_nospur)\n",
        "    power_no_background = power_gaincorrected_nospur-background\n",
        "    \n",
        "    gLon = re.match(regex, file)\n",
        "    L = float(gLon[1])"
      ],
      "execution_count": 27,
      "outputs": []
    },
    {
      "cell_type": "markdown",
      "metadata": {
        "id": "Hwpx445WBhpw"
      },
      "source": [
        "Now you need to save the longitude values to an array. To do so, create an empty array outside the `for loop` as follows:\n",
        "\n",
        "`gLon_array = np.zeros(<number of data files>)`\n",
        "\n",
        "To fill in this array, add the following code snippet inside the `for loop`:\n",
        "\n",
        "`gLon_array[nfile] = L`\n",
        "\n",
        "`nFile` is an index that keeps track of the file number. To initialize its value, set `nFile = 0` outside the `for loop`. Increase the value of `nFile` by one for each iteration of the loop. Verify that the array of longitude values built in this way is correct."
      ]
    },
    {
      "cell_type": "code",
      "metadata": {
        "colab": {
          "base_uri": "https://localhost:8080/"
        },
        "id": "rDwD7o-PBhp1",
        "outputId": "48a80bbf-eadb-4f57-8eeb-fcbc3a92694f"
      },
      "source": [
        "nFile = 0\n",
        "gLon_array = np.zeros(43)\n",
        "for file in sorted(os.listdir(\"/content/drive/MyDrive/Galactic Rotation/data\")):\n",
        "  \n",
        "  if fnmatch.fnmatch(file, \"*[0-9]_*.dat\"):\n",
        "    data = np.fromfile(\"/content/drive/MyDrive/Galactic Rotation/data/\"+file,dtype=float)\n",
        "    header = data[0:16]\n",
        "    headerDict = getHeaderDictionary(header)\n",
        "    power = data[16:]\n",
        "\n",
        "    fCenter = headerDict['fCenter']\n",
        "    fSample = headerDict['fSample']\n",
        "    fMin = fCenter - (fSample)/2\n",
        "    fMax = fCenter + (fSample)/2\n",
        "\n",
        "    freqs = np.linspace(fMin,fMax,headerDict['nBins'])\n",
        "    vDoppler = (3*10**5)*(freqs-1420.41)/freqs\n",
        "\n",
        "    power_gaincorrected = np.divide(power,gain)\n",
        "\n",
        "    power_gaincorrected_nospur = removeSpurs(power_gaincorrected)\n",
        "    vDoppler = removeSpurs(vDoppler)\n",
        "      \n",
        "    background = getBackground(vDoppler,power)\n",
        "    power_no_background = power_gaincorrected_nospur-background\n",
        "    \n",
        "    gLon = re.match(regex, file)\n",
        "    L = float(gLon[1])\n",
        "    gLon_array[nFile] = L\n",
        "    nFile += 1\n",
        "\n",
        "print(gLon_array)\n"
      ],
      "execution_count": 39,
      "outputs": [
        {
          "output_type": "stream",
          "text": [
            "[ 0.  2.  4.  6.  8. 10. 12. 14. 16. 18. 20. 22. 24. 26. 28. 30. 32. 34.\n",
            " 36. 38. 40. 42. 44. 46. 48. 50. 52. 54. 56. 58. 60. 62. 64. 66. 68. 70.\n",
            " 72. 74. 76. 78. 80. 82. 84.]\n"
          ],
          "name": "stdout"
        }
      ]
    },
    {
      "cell_type": "markdown",
      "metadata": {
        "id": "2w63Jz3NBhp5"
      },
      "source": [
        "We need some way to summarize all of this information compactly.  To do so, we will make a `heat map` with `Longitude` plotted on the y-axis, `Doppler Velocity` plotted on the x-axis and the color of each bin associated with `Power`.  This requires saving the data that we read into a 2D array.\n",
        "\n",
        "Determine the number of files that are being read in, as well as the length of the Doppler velocity array. Define a two-dimensional array of zeros where each row corresponds to the file number and each column corresponds to the Doppler velocity:\n",
        " \n",
        "```\n",
        "nRows, nCols = <number of data files> , <length of Doppler array>\n",
        "\n",
        "mapData = np.zeros((nRows, nCols))\n",
        "```\n",
        " \n",
        "Note that this code snippet should be placed above the `for loop` defined above.\n",
        "\n",
        "Following a procedure similar to that above, fill in the `mapData` array. However, there are two indices that need to be defined, one that is associated with the file index, `nFile`, and the other associated with the Doppler velocity. You can use another `for loop` to do this:\n",
        "\n",
        "```\n",
        "for j in range(len( <despurred Doppler array> )):\n",
        "     mapData[nfile][j] =  <fill in>\n",
        "```\n",
        "\n",
        "Remove any negative values for the gain-corrected power using a statement such as\n",
        "\n",
        "```power = np.maximum(0., power)```"
      ]
    },
    {
      "cell_type": "markdown",
      "metadata": {
        "id": "70LVNm0IBhp6"
      },
      "source": [
        "Plot a 2D histogram of the temperature data as follows:\n",
        "    \n",
        "```\n",
        "plt.figure(figsize=(10.,7.5))\n",
        "\n",
        "plt.pcolormesh( <Doppler array>, <Longitude array>, mapData)\n",
        "\n",
        "cb = plt.colorbar()\n",
        "\n",
        "cb.set_label(‘Temperature [K]’)\n",
        "\n",
        "plt.show()\n",
        "```\n",
        "\n",
        "Be sure to label your axes appropriately and give your plot a title. Only show results for `300 < vDoppler < 300 km/s`.    "
      ]
    },
    {
      "cell_type": "code",
      "metadata": {
        "colab": {
          "base_uri": "https://localhost:8080/",
          "height": 470
        },
        "id": "iPxjhh3EecQl",
        "outputId": "d977b1f4-5ec1-4ed1-c5b0-982713f0fc5f"
      },
      "source": [
        "gLon_array = np.zeros(43)\n",
        "nRows, nCols = 43, len(vDoppler)\n",
        "mapData = np.zeros((nRows, nCols))\n",
        "nfile = 0\n",
        "\n",
        "for file in sorted(os.listdir(\"/content/drive/MyDrive/Galactic Rotation/data\")):\n",
        "  \n",
        "  if fnmatch.fnmatch(file, \"*[0-9]_*.dat\"):\n",
        "    data = np.fromfile(\"/content/drive/MyDrive/Galactic Rotation/data/\"+file,dtype=float)\n",
        "    header = data[0:16]\n",
        "    headerDict = getHeaderDictionary(header)\n",
        "    power = data[16:]\n",
        "\n",
        "    fCenter = headerDict['fCenter']\n",
        "    fSample = headerDict['fSample']\n",
        "    fMin = fCenter - (fSample)/2\n",
        "    fMax = fCenter + (fSample)/2\n",
        "\n",
        "    freqs = np.linspace(fMin,fMax,headerDict['nBins'])\n",
        "    vDoppler = (3*10**5)*(freqs-1420.41)/freqs\n",
        "\n",
        "    power_gaincorrected = np.divide(power,gain)\n",
        "\n",
        "    power_gaincorrected_nospur = removeSpurs(power_gaincorrected)\n",
        "    vDoppler = removeSpurs(vDoppler)\n",
        "      \n",
        "    background = getBackground(vDoppler,power_gaincorrected_nospur)\n",
        "    power_no_background = power_gaincorrected_nospur-background\n",
        "    power_final = np.maximum(0., power_no_background)\n",
        "    \n",
        "    gLon = re.match(regex, file)\n",
        "    L = float(gLon[1])\n",
        "    gLon_array[nfile] = L\n",
        "    \n",
        "    for j in range(len(vDoppler)):\n",
        "      mapData[nfile][j] =  power_final[j]\n",
        "    nfile += 1\n",
        "\n",
        "plt.figure(figsize=(10.,7.5))\n",
        "plt.xlim(-300,300)\n",
        "plt.pcolormesh(vDoppler, gLon_array, mapData)\n",
        "plt.xlabel(\"Doppler Velocity (km/s)\")\n",
        "plt.ylabel(\"Longitude (degrees)\")\n",
        "cb = plt.colorbar()\n",
        "cb.set_label(\"Temperature [K]\")\n",
        "plt.show()\n",
        "plt.title(\"Heat Map of Longitude against Doppler Velocity\")"
      ],
      "execution_count": 60,
      "outputs": [
        {
          "output_type": "display_data",
          "data": {
            "image/png": "[encoded data removed]",
            "text/plain": [
              "<Figure size 720x540 with 2 Axes>"
            ]
          },
          "metadata": {
            "tags": [],
            "needs_background": "light"
          }
        }
      ]
    },
    {
      "cell_type": "markdown",
      "metadata": {
        "id": "DVgyOLQFBhp6"
      },
      "source": [
        "The folder you downloaded contains the module `galCoords`, which is imported above.\n",
        "\n",
        "Use it to calculate the velocity of the Earth in the direction in which the telescope is pointing. The calling sequence is\n",
        "\n",
        "`vE = velocityProjection( fileTime, ‘G’, L, 0.)`\n",
        "\n",
        "where `L` is the galactic longitude in degrees. The final argument, which is 0., is the galactic latitude. The `G` specifies that we are using galactic coordinates. `fileTime` is the time stamp extracted from the data header as follows\n",
        "\n",
        "```ts = header[0]*1.e6 + header[1]```\n",
        "\n",
        "Add points to the heat map corresponding to the values of the Earth velocity at a given longitude.\n"
      ]
    },
    {
      "cell_type": "code",
      "metadata": {
        "id": "rMnhwKFFBhp7"
      },
      "source": [
        "fileTime = header[0]*1.e6 + header[1]\n",
        "vE = velocityProjection(fileTime, \"G\", L, 0.)"
      ],
      "execution_count": 48,
      "outputs": []
    },
    {
      "cell_type": "markdown",
      "metadata": {
        "id": "0Hd0TgjoBhp7"
      },
      "source": [
        "Next, find the leftmost point in each spectrum that is above the background. You can call this `vPrime_uncorrected`. This is the uncorrected minimum velocity of approach, which is the same as the maximum velocity of recession (what we will ultimately need). To do this, scan the power array from the left, finding the first point where the power exceeds 20 K above background. Note: Use of `np.searchsorted()` is not a good option here, since it will return the channel number of the point that is closest to 20 K, which could occur anywhere in the spectrum. Here, we want the first channel (from the left) that goes above 20 K.\n",
        "\n",
        "Add points to the heat map corresponding to `vPrime_uncorrected`."
      ]
    },
    {
      "cell_type": "code",
      "metadata": {
        "id": "_WPKiCdKoseP"
      },
      "source": [
        "def find20(array):\n",
        "    i = 0\n",
        "    while (i < len(array)):\n",
        "      if array[i] >= 20:\n",
        "        return i\n",
        "      i+=1\n",
        "    return i"
      ],
      "execution_count": 73,
      "outputs": []
    },
    {
      "cell_type": "code",
      "metadata": {
        "id": "1ue3vPU_Bhp7",
        "colab": {
          "base_uri": "https://localhost:8080/",
          "height": 456
        },
        "outputId": "d55ce8e9-0300-4611-e270-95a41d451209"
      },
      "source": [
        "gLon_array = np.zeros(43)\n",
        "nRows, nCols = 43, len(vDoppler)\n",
        "mapData = np.zeros((nRows, nCols))\n",
        "vPrime_uncorrected = np.zeros(43)\n",
        "nfile = 0\n",
        "\n",
        "\n",
        "for file in sorted(os.listdir(\"/content/drive/MyDrive/Galactic Rotation/data\")):\n",
        "  \n",
        "  if fnmatch.fnmatch(file, \"*[0-9]_*.dat\"):\n",
        "    data = np.fromfile(\"/content/drive/MyDrive/Galactic Rotation/data/\"+file,dtype=float)\n",
        "    header = data[0:16]\n",
        "    headerDict = getHeaderDictionary(header)\n",
        "    power = data[16:]\n",
        "\n",
        "    fCenter = headerDict['fCenter']\n",
        "    fSample = headerDict['fSample']\n",
        "    fMin = fCenter - (fSample)/2\n",
        "    fMax = fCenter + (fSample)/2\n",
        "\n",
        "    freqs = np.linspace(fMin,fMax,headerDict['nBins'])\n",
        "    vDoppler = (3*10**5)*(freqs-1420.41)/freqs\n",
        "\n",
        "    power_gaincorrected = np.divide(power,gain)\n",
        "\n",
        "    power_gaincorrected_nospur = removeSpurs(power_gaincorrected)\n",
        "    vDoppler = removeSpurs(vDoppler)\n",
        "      \n",
        "    background = getBackground(vDoppler,power_gaincorrected_nospur)\n",
        "    power_no_background = power_gaincorrected_nospur-background\n",
        "    power_final = np.maximum(0., power_no_background)\n",
        "\n",
        "\n",
        "\n",
        "    gLon = re.match(regex, file)\n",
        "    L = float(gLon[1])\n",
        "    gLon_array[nfile] = L\n",
        "    \n",
        "    vPrime_uncorrected[nfile] = vDoppler[find20(power_final)]\n",
        "\n",
        "    for j in range(len(vDoppler)):\n",
        "      mapData[nfile][j] =  power_final[j]\n",
        "    nfile += 1\n",
        "\n",
        "plt.figure(figsize=(10.,7.5))\n",
        "plt.xlim(-300,300)\n",
        "plt.pcolormesh(vDoppler, gLon_array, mapData)\n",
        "plt.plot(vPrime_uncorrected, gLon_array, 'ro', label = \"V_prime uncorrected\")\n",
        "cb = plt.colorbar()\n",
        "plt.xlabel(\"Doppler Velocity (km/s)\")\n",
        "plt.ylabel(\"Longitude (degrees)\")\n",
        "cb.set_label(\"Temperature [K]\")\n",
        "plt.show()\n",
        "plt.title(\"Heat Map of Longitude against Doppler Velocity\")\n",
        "plt.label()"
      ],
      "execution_count": 77,
      "outputs": [
        {
          "output_type": "display_data",
          "data": {
            "image/png": "[encoded data removed]",
            "text/plain": [
              "<Figure size 720x540 with 2 Axes>"
            ]
          },
          "metadata": {
            "tags": [],
            "needs_background": "light"
          }
        }
      ]
    },
    {
      "cell_type": "markdown",
      "metadata": {
        "id": "FdIRGhKaBhp7"
      },
      "source": [
        "Following the notes on Galactic Rotation curves, calculate $v'_\\mathrm{corrected}$, $r$, and $v(r)$. The corrected version of $v'$ is $v'_\\mathrm{corrected} = - (v'_\\mathrm{uncorrected} - v_E) = v_E - v'_\\mathrm{uncorrected}$, where $v_E$ is the Earth's velocity. The first minus sign in this equation comes about because the value in the data plots is velocity of approach, whereas the rotation curve analysis assumes velocity of recession. When calculating the rotation velocity, use the following expression for $v(r)$:\n",
        "\n",
        "$v(r) = v' + R_\\odot \\Omega_\\odot \\sin \\ell $\n",
        "\n",
        "where $R_\\odot = 8$ kpc is the Solar radius, $\\Omega_\\odot$ is the angular velocity of the Sun, and $v'$ is the corrected maximum velocity of recession. You may take the circular velocity of the Sun to be $V_\\odot = 220$ km/s.\n",
        "\n",
        "Plot the rotational velocity versus galactic radius. You will need to take the sine of the galactic longitude, $\\ell$. In doing so, be sure that $\\ell$ is being expressed in radians. The `math.radians()` function may come in handy."
      ]
    },
    {
      "cell_type": "code",
      "metadata": {
        "id": "5kc2FSt0Bhp8",
        "colab": {
          "base_uri": "https://localhost:8080/"
        },
        "outputId": "6bb976aa-0a9d-4ade-9708-e5cec73a4cc9"
      },
      "source": [
        "vPrime_corrected = -(vPrime_uncorrected-vE)\n",
        "\n",
        "radius_sun = 8\n",
        "\n",
        "c_velocity_sun = 220\n",
        "\n",
        "i = 0\n",
        "vr = np.zeros(43)\n",
        "while (i < len(gLon_array)):\n",
        "  vr[i] = vPrime_corrected[i] + c_velocity_sun*np.sin(math.radians(gLon_array[i]))\n",
        "  i += 1\n",
        "\n",
        "print(v)"
      ],
      "execution_count": 99,
      "outputs": [
        {
          "output_type": "stream",
          "text": [
            "[ 10.85305549  11.88476731  11.88476731  14.97994534  21.17049302\n",
            "  30.4567936   36.64798005  39.7436691   41.80749729  49.03111958\n",
            " 100.63853935  93.41243183  94.44471159  92.38015916  86.18667231\n",
            "  91.3478936   88.25113952  83.09002476  70.70407367  71.73619721\n",
            "  64.51148157  56.25508972  54.19106275  53.15905992  52.12706418\n",
            "  52.12706418  49.03111958  42.83942204  32.52049402  29.42495403\n",
            "  26.32947792  23.23406569  17.04343285  13.94821224  10.85305549\n",
            "  10.85305549   8.78965315   7.75796262   7.75796262  11.88476731\n",
            "  11.88476731  14.97994534  12.91648622]\n"
          ],
          "name": "stdout"
        }
      ]
    },
    {
      "cell_type": "code",
      "metadata": {
        "collapsed": true,
        "id": "wUjlHrCPBhp8",
        "colab": {
          "base_uri": "https://localhost:8080/"
        },
        "outputId": "2f014cfd-a9df-4479-8bbf-bb8021580f84"
      },
      "source": [
        "i = 0\n",
        "r = np.zeros(43)\n",
        "while (i < len(gLon_array)):\n",
        "  radius = 8*np.sin(math.radians(gLon_array[i]))\n",
        "  r[i] = radius\n",
        "  i += 1\n",
        "print(r)"
      ],
      "execution_count": 101,
      "outputs": [
        {
          "output_type": "stream",
          "text": [
            "[0.         0.27919597 0.55805179 0.83622771 1.11338481 1.38918542\n",
            " 1.66329353 1.93537516 2.20509885 2.47213595 2.73616115 2.99685275\n",
            " 3.25389314 3.50696917 3.7557725  4.         4.23935411 4.47354323\n",
            " 4.70228202 4.9252918  5.14230088 5.35304485 5.55726696 5.7547184\n",
            " 5.9451586  6.12835554 6.30408603 6.47213595 6.63230058 6.78438477\n",
            " 6.92820323 7.06358074 7.19035237 7.30836366 7.41747084 7.51754097\n",
            " 7.60845213 7.69009357 7.76236581 7.82518081 7.87846202 7.92214455\n",
            " 7.95617516]\n"
          ],
          "name": "stdout"
        }
      ]
    },
    {
      "cell_type": "code",
      "metadata": {
        "colab": {
          "base_uri": "https://localhost:8080/",
          "height": 312
        },
        "id": "HFwGgUfovwFh",
        "outputId": "2f1138b8-111a-4d32-f340-86c90e588af5"
      },
      "source": [
        "plt.plot(r,vr)\n",
        "plt.title(\"Radial Velocity against Galactic Radius\")\n",
        "plt.xlabel(\"Galactic Radius (pc)\")\n",
        "plt.ylabel(\"Radial Velocity (km/s)\")"
      ],
      "execution_count": 106,
      "outputs": [
        {
          "output_type": "execute_result",
          "data": {
            "text/plain": [
              "Text(0, 0.5, 'Radial Velocity (km/s)')"
            ]
          },
          "metadata": {
            "tags": []
          },
          "execution_count": 106
        },
        {
          "output_type": "display_data",
          "data": {
            "image/png": "[encoded data removed]",
            "text/plain": [
              "<Figure size 432x288 with 1 Axes>"
            ]
          },
          "metadata": {
            "tags": [],
            "needs_background": "light"
          }
        }
      ]
    }
  ]
}