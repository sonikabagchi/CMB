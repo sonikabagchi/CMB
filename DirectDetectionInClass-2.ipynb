{
  "nbformat": 4,
  "nbformat_minor": 0,
  "metadata": {
    "anaconda-cloud": {},
    "kernelspec": {
      "display_name": "Python 3",
      "language": "python",
      "name": "python3"
    },
    "language_info": {
      "codemirror_mode": {
        "name": "ipython",
        "version": 3
      },
      "file_extension": ".py",
      "mimetype": "text/x-python",
      "name": "python",
      "nbconvert_exporter": "python",
      "pygments_lexer": "ipython3",
      "version": "3.7.2"
    },
    "colab": {
      "name": "DirectDetectionInClass.ipynb",
      "provenance": []
    }
  },
  "cells": [
    {
      "cell_type": "markdown",
      "metadata": {
        "id": "2AMH_QX57SOo"
      },
      "source": [
        "# Direct detection of dark matter"
      ]
    },
    {
      "cell_type": "markdown",
      "metadata": {
        "id": "3TKcy__67SOr"
      },
      "source": [
        "In this notebook, we will calculate the event rate for dark matter scattering off of nuclei, as would be expected in dark matter direct detection experiments. We will use this to look at the expected sensitivity of such experiments for a variety of target materials and experimental configurations.\n",
        "\n",
        "References:\n",
        "- [Lectures on Dark Matter Physics -- Mariangela Lisanti](https://arxiv.org/abs/1603.03797)\n",
        "- [Supersymmetric dark matter -- Jungman et al.](https://www.sciencedirect.com/science/article/pii/0370157395000585)\n",
        "\n",
        "Note that these references are geared for beginning graduate students; you are certainly not expected to know everything there!"
      ]
    },
    {
      "cell_type": "markdown",
      "metadata": {
        "id": "hcBqpjAh7SOs"
      },
      "source": [
        "<img src=\"NucRecoilAtoms.jpg\">"
      ]
    },
    {
      "cell_type": "code",
      "metadata": {
        "id": "3rKzo6PG7SOt"
      },
      "source": [
        "# All imports should be on top of the notebook\n",
        "\n",
        "%matplotlib inline\n",
        "import numpy as np\n",
        "import matplotlib.pyplot as plt \n",
        "import scipy\n",
        "\n",
        "from scipy import special"
      ],
      "execution_count": 2,
      "outputs": []
    },
    {
      "cell_type": "markdown",
      "metadata": {
        "id": "mVsQTL4G7SOt"
      },
      "source": [
        "## 0. Units and constants"
      ]
    },
    {
      "cell_type": "markdown",
      "metadata": {
        "id": "vaBj-t2D7SOu"
      },
      "source": [
        "We define our units upfront here.  Our convention will be to use natural units throughout.  For simplicity, we will define the SI units in terms of their corresponding natural units here.  Later in the notebook, you can define a quantity in terms of its SI unit and the conversion to natural units happens 'automatically.'\n",
        "\n",
        "As convention, we take keV $=1$ as the base unit.  Therefore:"
      ]
    },
    {
      "cell_type": "code",
      "metadata": {
        "id": "r8yGE-gF7SOv"
      },
      "source": [
        "GeV = 1e6  # GeV = 1e6 * keV = 1e6 when keV = 1\n",
        "eV = 1e-9*GeV\n",
        "keV = 1e-6*GeV\n",
        "MeV = 1e-3*GeV"
      ],
      "execution_count": 3,
      "outputs": []
    },
    {
      "cell_type": "markdown",
      "metadata": {
        "id": "N4qqI2Yv7SOv"
      },
      "source": [
        "We will do our calculations in natural units, assuming  ℏ=c=1.  Make sure that you understand the definitions in the block below.  They are derived using the following relations:\n",
        "\n",
        "$$\n",
        "c = 2.99792*10^5~\\mathrm{ km/s} \n",
        "$$\n",
        "\n",
        "$$\n",
        "\\frac{1~\\mathrm{GeV}}{c^2} = 1.79 * 10^{-27}~\\mathrm{kg}\n",
        "$$\n",
        "\n",
        "$$\n",
        "ℏc = 1.97 * 10^{-14}~\\mathrm{GeV}~\\mathrm{cm} \n",
        "$$\n",
        "\n",
        "$$\n",
        "ℏ = 6.58*10^{-25}~\\mathrm{GeV}~\\mathrm{s}\n",
        "$$"
      ]
    },
    {
      "cell_type": "code",
      "metadata": {
        "id": "6D6jpjVT7SO1"
      },
      "source": [
        "Kmps = 3.3e-6   # km/s\n",
        "Kg = 5.6e35*eV  # kg\n",
        "Sec = 1/(6.58e-16*eV)  #seconds\n",
        "amu = 1.66e-27*Kg   # atomic mass unit in kg\n",
        "Centimeter = 5.07e13/GeV  # cm"
      ],
      "execution_count": 4,
      "outputs": []
    },
    {
      "cell_type": "markdown",
      "metadata": {
        "id": "0Y-xHcdD7SO2"
      },
      "source": [
        "The rate per target mass has units of counts/kg/s.  It will be more convenient to quote results in terms of counts/kg/days and counts/kg/years, as defined here:"
      ]
    },
    {
      "cell_type": "code",
      "metadata": {
        "id": "0Orp0rjJ7SO2"
      },
      "source": [
        "KgDay = Kg*Sec*86400   \n",
        "KgYear = 365.25*KgDay"
      ],
      "execution_count": 5,
      "outputs": []
    },
    {
      "cell_type": "markdown",
      "metadata": {
        "id": "l2ZBAbYm7SO2"
      },
      "source": [
        "In the following, it will be easiest if you keep track of units in the variable definitions.  For example, to define a velocity with units of km/s, one would use\n",
        "\n",
        "$$\n",
        "v = \\mathrm{(some~number)} * \\mathrm{Kmps}\n",
        "$$"
      ]
    },
    {
      "cell_type": "markdown",
      "metadata": {
        "id": "C_TzX3JS7SO3"
      },
      "source": [
        "## 1. Direct detection event rate"
      ]
    },
    {
      "cell_type": "markdown",
      "metadata": {
        "id": "vyENI_ML7SO3"
      },
      "source": [
        "Direct detection experiments aim to observe a dark matter particle recoiling off a nucleus following some mutual interaction. See Section II of https://arxiv.org/pdf/1209.3339.pdf for more details on the direct detection formalism. For the most common types of interactions, the differential event rate (per unit detector mass and nuclear recoil energy $E_\\mathrm{nr}$) takes the form\n",
        "\n",
        "$$  \\frac{dR}{dE_\\mathrm{nr}}\n",
        "    = \\frac{1}{2 m_\\mathrm{DM} \\mu_N^2} \\, \\sigma_N \\, \\rho_\\mathrm{DM} \\eta(v_\\mathrm{min}(E_\\mathrm{nr}),t),\n",
        "    $$\n",
        "\n",
        "where $\\mu_N$ is the dark matter-nucleus reduced mass, $m_\\mathrm{DM}$ is the dark matter mass, $\\rho_\\mathrm{DM}$ is the dark matter density, $\\sigma_N$ is an effective scattering cross-section describing the interaction between the dark matter and nucleus and\n",
        "\n",
        "$$\\eta(v_\\mathrm{min},t) = \\int_{v > v_\\mathrm{min}} d^3v \\, \\frac{f(\\mathbf{v + v}_\\mathrm{obs}(t))}{v}$$\n",
        "is the mean inverse speed, with\n",
        "\n",
        "$$\n",
        "  v_\\mathrm{min} =\n",
        "      \\sqrt{\\frac{m_N E_\\mathrm{nr}}{2\\mu_N^2}}\n",
        "$$\n",
        "\n",
        "the minimum DM velocity needed to induce a recoil for the case of elastic scattering. Note that $f(\\mathbf{v})$ is the assumed Galactic-frame DM distribution, and $v_\\mathrm{obs}(t)$ takes into account the motion of the Sun and Earth -- $(\\mathbf{v + v}_\\mathrm{obs}(t))$ is the boosted DM velocity in the lab frame, which is relevant for direct detection experiments.\n",
        "\n",
        "Writing the event rate in this form, we can separate out the astrophysical component of the rate $\\rho_\\mathrm{DM} \\eta(v_\\mathrm{min}(E_\\mathrm{nr}),t)$ and the particle physics component $\\sigma_N$. We will now implement these one at a time."
      ]
    },
    {
      "cell_type": "markdown",
      "metadata": {
        "id": "JPmcabgR7SO4"
      },
      "source": [
        "### Astrophysics"
      ]
    },
    {
      "cell_type": "markdown",
      "metadata": {
        "id": "ylYiCJWF7SO5"
      },
      "source": [
        "Here, you will define the functions that are needed to calculate $\\eta$ for one possible velocity distribution function.  Start by defining functions to calculate:\n",
        "- The reduced mass of two particles $\\mu(m_1, m_2)$\n",
        "- The minimum DM velocity to induce recoil, $v_\\mathrm{min}(E_\\mathrm{nr}, m_\\mathrm{DM}, m_N)$"
      ]
    },
    {
      "cell_type": "code",
      "metadata": {
        "id": "wHOgos3_7SO5"
      },
      "source": [
        "def red_mass(m1, m2):\n",
        "  mu_n = (m1*m2)/(m1+m2)\n",
        "  return mu_n\n",
        "\n",
        "def v_min(E, m_dm, m_n):\n",
        "  mu_n = red_mass(m_n,m_dm)\n",
        "  v_min = np.sqrt(np.divide(np.multiply(m_n,E),(2*mu_n**2)))\n",
        "  return v_min"
      ],
      "execution_count": 6,
      "outputs": []
    },
    {
      "cell_type": "markdown",
      "metadata": {
        "id": "nBwXfiDt7SO6"
      },
      "source": [
        "Next, define the function to calculate the velocity integral  $\\eta(v_\\mathrm{min})$.  For now, assume a simple Maxwellian velocity distribution: \n",
        "\n",
        "$$\n",
        " f(\\mathbf v) =\n",
        "       \\left( \\frac{1}{\\pi v_0^2} \\right)^{3/2}\n",
        "        \\, e^{-\\mathbf v^2\\!/v_0^2} \n",
        "$$\n",
        "\n",
        "with $v_0 ≈ 220$ km/s the most probable Galactic-frame dark matter velocity. If we approximate the escape velocity to be infinite, then the velocity integral can be performed analytically.  The result is\n",
        "\n",
        "$$\n",
        "\\eta(v_\\mathrm{min}) = \\frac{1}{2 v_\\mathrm{obs}} \\Big[ \\mathrm{erf}(x+y) - \\mathrm{erf}(x-y) \\Big] ,\n",
        "$$\n",
        "\n",
        "where $x \\equiv v_\\mathrm{min}/v_0$ and $y = v_\\mathrm{obs}/v_0$.  Take the Galactic-frame Earth speed to be time independent at $v_\\mathrm{obs} \\approx 250$ km/s .  Documentation on the error function can be found here:\n",
        "https://docs.scipy.org/doc/scipy-0.15.1/reference/generated/scipy.special.erf.html\n"
      ]
    },
    {
      "cell_type": "code",
      "metadata": {
        "id": "87cnZyep7SO7"
      },
      "source": [
        "v_obs = 250*Kmps\n",
        "v_0 = 220*Kmps\n",
        "def get_integral(v_min):\n",
        "  x = np.divide(v_min,v_0)\n",
        "  y = v_obs/v_0\n",
        "  integral = (1/(2*v_obs))*(special.erf(x+y)-special.erf(x-y))\n",
        "  return integral"
      ],
      "execution_count": 7,
      "outputs": []
    },
    {
      "cell_type": "code",
      "metadata": {
        "id": "4T054dSC7SO7"
      },
      "source": [
        ""
      ],
      "execution_count": null,
      "outputs": []
    },
    {
      "cell_type": "markdown",
      "metadata": {
        "id": "fB7cWVNP7SO8"
      },
      "source": [
        "### Particle physics"
      ]
    },
    {
      "cell_type": "markdown",
      "metadata": {
        "id": "fdZ2j0CQ7SO8"
      },
      "source": [
        "We now define a few nuclear parameters. To compare rates and sensitivities across different experiments using different target nuclei, it is useful to define the DM-nucleon (in our case, DM-proton) cross-section and present results in terms of this. To convert between the DM-nucleus and DM-nucleon cross section, use the following:\n",
        "\n",
        "$$\n",
        "\\sigma_\\mathrm{N} = \\frac{\\mu_N^2}{\\mu^2_p}A^2\\sigma_p\n",
        "$$\n",
        "\n",
        "where $\\mu_N$ is the DM-nucleus reduced mass, $\\mu_p$ the DM-proton reduced mass, and $A$ is the atomic mass number (equal to the number of protons and neutrons). \n",
        "\n",
        "Write a function that yields $\\sigma_\\mathrm{N}$ for a given value of $\\sigma_p$ and target material.  Define the proton mass to be 1 atomic mass unit--remember to account for units in your variable definition."
      ]
    },
    {
      "cell_type": "code",
      "metadata": {
        "id": "521aMbzQ7SO9"
      },
      "source": [
        "m_p = 1*amu\n",
        "\n",
        "def sigma_n(sigma_p, m_n, m_dm, A):\n",
        "  mu_p = red_mass(m_p,m_dm)\n",
        "  mu_n = red_mass(m_n, m_dm)\n",
        "  sigma_n = ((mu_n**2)/(mu_p**2))*(A**2)*(sigma_p)\n",
        "  return sigma_n"
      ],
      "execution_count": 8,
      "outputs": []
    },
    {
      "cell_type": "code",
      "metadata": {
        "id": "EMQEiT5Y7SO-"
      },
      "source": [
        ""
      ],
      "execution_count": null,
      "outputs": []
    },
    {
      "cell_type": "markdown",
      "metadata": {
        "id": "-4Bx8gMb7SO-"
      },
      "source": [
        "Note that we've not account for the momentum-transfer-dependent form factor $F(q)$, so our estimates are likely to be somewhat optimistic."
      ]
    },
    {
      "cell_type": "markdown",
      "metadata": {
        "id": "pauAvnuY7SO-"
      },
      "source": [
        "### Event rate"
      ]
    },
    {
      "cell_type": "markdown",
      "metadata": {
        "id": "vJbXdSvm7SO-"
      },
      "source": [
        "Write a function that calculates the differential scatering rate $dR/dE_\\mathrm{nr}$ as a function of nuclear recoil energy, dark matter mass, nuclear mass, and $\\sigma_p$.\n",
        "\n",
        "$$  \\frac{dR}{dE_\\mathrm{nr}}\n",
        "    = \\frac{1}{2 m_\\mathrm{DM} \\mu_N^2} \\, \\sigma_N \\, \\rho_\\mathrm{DM} \\eta(v_\\mathrm{min}(E_\\mathrm{nr}),t),\n",
        "    $$\n",
        "\n",
        "\n",
        "\n",
        "Take the local dark matter density to be $\\rho_\\mathrm{DM} = 0.4$ GeV/cm$^3$. Again, write out all units explicitly in your variable definitions, referencing Sec. 0.\n"
      ]
    },
    {
      "cell_type": "code",
      "metadata": {
        "id": "rLcIjkcf7SO_"
      },
      "source": [
        "\"\"\"\n",
        "p_dm = 0.4*GeV*Centimeter**(-3)\n",
        "\n",
        "def dRdE(m_dm, p_dm, sigma_n, mu_n, n):\n",
        "  dRdE = (1/(2*m_dm*mu_n**2))*(sigma_n*p_dm*n)\n",
        "  return dRdE\n",
        "\"\"\""
      ],
      "execution_count": 9,
      "outputs": []
    },
    {
      "cell_type": "code",
      "metadata": {
        "id": "i9TFHbQz7SO_"
      },
      "source": [
        "p_dm = 0.4*GeV*Centimeter**(-3)\n",
        "\n",
        "def dRdE1(m_dm, m_n, sigma_p, A, E):\n",
        "  vmin = v_min(E, m_dm, m_n)\n",
        "  c = (1/(2*m_dm*red_mass(m_n,m_dm)**2))\n",
        "  dRdE = c*(sigma_n(sigma_p, m_n, m_dm, A)*p_dm*get_integral(vmin))\n",
        "  return dRdE"
      ],
      "execution_count": 10,
      "outputs": []
    },
    {
      "cell_type": "markdown",
      "metadata": {
        "id": "DI3hVefj7SO_"
      },
      "source": [
        "For concreteness, consider a 100 GeV mass dark matter particle scattering off of a Xenon nucleus.  Assume that $\\sigma_p = 10^{-45}$ cm$^2$, which is roughly in the range of what you would expect for Higgs-mediated processes.  \n",
        "\n",
        "Plot the differential scattering rate as a function of nuclear recoil energy $E_\\mathrm{nr}$, taking values from 0 to 75 keV.  Note that your differential rate function will be outputting a quantity in natural units.  To convert this to counts/kg/year/keV, multiply by KgYear*keV."
      ]
    },
    {
      "cell_type": "code",
      "metadata": {
        "id": "WT1D50co7SPA"
      },
      "source": [
        "m_dm = 100*GeV\n",
        "sigmap = 10**-45*Centimeter**(2)\n",
        "A = 54\n",
        "m_n = 131.293*amu\n",
        "\n",
        "mu_n = red_mass(m_n, m_dm)\n",
        "\n",
        "Enr = np.linspace(0,75,75)\n",
        "vmin = v_min(Enr, m_dm, m_n)\n",
        "n = get_integral(vmin)\n",
        "sigman = sigma_n(sigmap,m_n,m_dm,A)\n",
        "drde = dRdE(m_dm,p_dm, sigman, mu_n,n)*KgYear*keV"
      ],
      "execution_count": 11,
      "outputs": []
    },
    {
      "cell_type": "code",
      "metadata": {
        "id": "plhP1lHT7SPA",
        "colab": {
          "base_uri": "https://localhost:8080/",
          "height": 282
        },
        "outputId": "2fb42e27-5fa5-4ba4-bb77-feaefbaa0f9a"
      },
      "source": [
        "plt.plot(Enr, drde)"
      ],
      "execution_count": 12,
      "outputs": [
        {
          "output_type": "execute_result",
          "data": {
            "text/plain": [
              "[<matplotlib.lines.Line2D at 0x7f37ecc0c710>]"
            ]
          },
          "metadata": {
            "tags": []
          },
          "execution_count": 12
        },
        {
          "output_type": "display_data",
          "data": {
            "image/png": "[encoded data removed]",
            "text/plain": [
              "<Figure size 432x288 with 1 Axes>"
            ]
          },
          "metadata": {
            "tags": [],
            "needs_background": "light"
          }
        }
      ]
    },
    {
      "cell_type": "code",
      "metadata": {
        "id": "X6BdNeNo7SPA"
      },
      "source": [
        "m_dm = 100*GeV\n",
        "sigmap = 10**-45*Centimeter**(2)\n",
        "A = 54\n",
        "m_n = 131.293*amu\n",
        "Enr = np.linspace(0,75,75)\n",
        "\n",
        "drde_v = dRdE1(m_dm,m_n,sigmap,A,Enr)*KgYear\n",
        "drde_1 = dRdE1(30*GeV,m_n,sigmap,A,Enr)*KgYear\n",
        "drde_2 = dRdE1(50*GeV,m_n,sigmap,A,Enr)*KgYear\n",
        "drde_3 = dRdE1(10*GeV,m_n,sigmap,A,Enr)*KgYear\n",
        "drde_4 = dRdE1(500*GeV,m_n,sigmap,A,Enr)*KgYear"
      ],
      "execution_count": 13,
      "outputs": []
    },
    {
      "cell_type": "code",
      "metadata": {
        "id": "sMZcpXtx7SPB",
        "colab": {
          "base_uri": "https://localhost:8080/",
          "height": 312
        },
        "outputId": "41a817be-a932-4ec4-ae25-182093b31eea"
      },
      "source": [
        "plt.plot(Enr, drde_v, label = '100 GeV')\n",
        "plt.plot(Enr, drde_1, label = '30 GeV')\n",
        "plt.plot(Enr, drde_2, label = '50 GeV')\n",
        "plt.plot(Enr, drde_3, label = '10 GeV')\n",
        "plt.plot(Enr, drde_4, label = '500 GeV')\n",
        "plt.legend()\n",
        "plt.title(\"Differential Scattering rate against Nuclear Recoil Energy\")\n",
        "plt.xlabel(\"Nuclear Recoil Energy (keV)\")\n",
        "plt.ylabel(\"Differential Scattering rate\")"
      ],
      "execution_count": 14,
      "outputs": [
        {
          "output_type": "execute_result",
          "data": {
            "text/plain": [
              "Text(0, 0.5, 'Differential Scattering rate')"
            ]
          },
          "metadata": {
            "tags": []
          },
          "execution_count": 14
        },
        {
          "output_type": "display_data",
          "data": {
            "image/png": "[encoded data removed]",
            "text/plain": [
              "<Figure size 432x288 with 1 Axes>"
            ]
          },
          "metadata": {
            "tags": [],
            "needs_background": "light"
          }
        }
      ]
    },
    {
      "cell_type": "markdown",
      "metadata": {
        "id": "Qyv0h4Wu7SPD"
      },
      "source": [
        "Compare the scattering rates for different dark matter masses: $m_\\mathrm{DM} = 10, 30, 50, 100, 500$ GeV."
      ]
    },
    {
      "cell_type": "code",
      "metadata": {
        "id": "j6GPVA__7SPD"
      },
      "source": [
        "\"\"\"\n",
        "m_dm1 = 10*GeV\n",
        "mu_n1 = red_mass(m_n, m_dm1)\n",
        "vmin1 = v_min(Enr, m_dm1, m_n)\n",
        "n1 = get_integral(vmin1)\n",
        "sigman1 = sigma_n(sigmap,mu_n1,m_dm1,A)\n",
        "drde1 = dRdE(m_dm1,p_dm, sigman1, mu_n1,n)*KgYear*keV\n",
        "\n",
        "m_dm2 = 30*GeV\n",
        "mu_n2 = red_mass(m_n, m_dm2)\n",
        "vmin2 = v_min(Enr, m_dm2, m_n)\n",
        "n2 = get_integral(vmin2)\n",
        "sigman2 = sigma_n(sigmap,mu_n2,m_dm2,A)\n",
        "drde2 = dRdE(m_dm2,p_dm, sigman2, mu_n2,n)*KgYear*keV\n",
        "\n",
        "m_dm3 = 50*GeV\n",
        "mu_n3 = red_mass(m_n, m_dm3)\n",
        "vmin3 = v_min(Enr, m_dm3, m_n)\n",
        "n3 = get_integral(vmin3)\n",
        "sigman3 = sigma_n(sigmap,mu_n3,m_dm3,A)\n",
        "drde3 = dRdE(m_dm3,p_dm, sigman3, mu_n3,n)*KgYear*keV\n",
        "\n",
        "m_dm4 = 500*GeV\n",
        "mu_n4 = red_mass(m_n, m_dm4)\n",
        "vmin4 = v_min(Enr, m_dm4, m_n)\n",
        "n4 = get_integral(vmin4)\n",
        "sigman4 = sigma_n(sigmap,mu_n4,m_dm4,A)\n",
        "drde4 = dRdE(m_dm4,p_dm, sigman4, mu_n4,n)*KgYear*keV\n",
        "\"\"\"\n"
      ],
      "execution_count": 117,
      "outputs": []
    },
    {
      "cell_type": "code",
      "metadata": {
        "collapsed": true,
        "id": "UpiGWaF_7SPE",
        "colab": {
          "base_uri": "https://localhost:8080/",
          "height": 282
        },
        "outputId": "9913f425-a381-47c0-91e3-87c9a9189aa2"
      },
      "source": [
        "\"\"\"\n",
        "plt.plot(Enr, drde)\n",
        "plt.plot(Enr, drde1)\n",
        "plt.plot(Enr, drde2)\n",
        "plt.plot(Enr, drde3)\n",
        "plt.plot(Enr, drde4)\n",
        "\"\"\""
      ],
      "execution_count": 118,
      "outputs": [
        {
          "output_type": "execute_result",
          "data": {
            "text/plain": [
              "[<matplotlib.lines.Line2D at 0x7fd32e1da690>]"
            ]
          },
          "metadata": {
            "tags": []
          },
          "execution_count": 118
        },
        {
          "output_type": "display_data",
          "data": {
            "image/png": "[encoded data removed]",
            "text/plain": [
              "<Figure size 432x288 with 1 Axes>"
            ]
          },
          "metadata": {
            "tags": [],
            "needs_background": "light"
          }
        }
      ]
    }
  ]
}